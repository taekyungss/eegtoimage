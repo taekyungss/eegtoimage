{
 "cells": [
  {
   "cell_type": "code",
   "execution_count": 22,
   "metadata": {},
   "outputs": [
    {
     "data": {
      "text/plain": [
       "array([array([[[190, 179, 125],\n",
       "               [183, 171, 121],\n",
       "               [190, 177, 133],\n",
       "               ...,\n",
       "               [201, 193, 147],\n",
       "               [181, 176, 134],\n",
       "               [181, 178, 137]],\n",
       "\n",
       "              [[189, 178, 124],\n",
       "               [192, 180, 130],\n",
       "               [181, 168, 124],\n",
       "               ...,\n",
       "               [181, 174, 128],\n",
       "               [184, 181, 138],\n",
       "               [192, 190, 149]],\n",
       "\n",
       "              [[189, 177, 125],\n",
       "               [182, 170, 120],\n",
       "               [175, 162, 118],\n",
       "               ...,\n",
       "               [160, 156, 111],\n",
       "               [180, 178, 137],\n",
       "               [189, 190, 150]],\n",
       "\n",
       "              ...,\n",
       "\n",
       "              [[142, 191,  99],\n",
       "               [133, 182,  91],\n",
       "               [129, 174,  89],\n",
       "               ...,\n",
       "               [132, 158, 111],\n",
       "               [139, 170, 110],\n",
       "               [142, 179, 101]],\n",
       "\n",
       "              [[133, 182,  90],\n",
       "               [133, 182,  91],\n",
       "               [124, 169,  84],\n",
       "               ...,\n",
       "               [151, 177, 130],\n",
       "               [141, 173, 110],\n",
       "               [126, 164,  79]],\n",
       "\n",
       "              [[133, 180,  88],\n",
       "               [138, 184,  94],\n",
       "               [131, 176,  91],\n",
       "               ...,\n",
       "               [159, 185, 138],\n",
       "               [149, 181, 116],\n",
       "               [139, 178,  89]]], dtype=uint8),\n",
       "       array([[  18.,   23.,   -6., ...,  700., 1138.,  164.],\n",
       "              [ 735.,  644.,  -29., ...,  314.,  367.,  429.],\n",
       "              [ 405., -707.,  706., ...,  515.,  838.,  247.],\n",
       "              ...,\n",
       "              [ 235.,  290.,  160., ...,  -58.,    0., -112.],\n",
       "              [-139., -105.,  -85., ..., -181.,  378.,  327.],\n",
       "              [ 427.,  346.,  211., ...,  722.,  664., 1493.]], dtype=float32),\n",
       "       12, 'n02106662_1278', 1], dtype=object)"
      ]
     },
     "execution_count": 22,
     "metadata": {},
     "output_type": "execute_result"
    }
   ],
   "source": [
    "import numpy as np\n",
    "\n",
    "data = np.load(\"/Data/summer24/EEGStyleGAN-ADA/dataset/eeg_imagenet40_cvpr_2017_raw/train/n02106662_1278_1.npy\", allow_pickle=True)\n",
    "data"
   ]
  },
  {
   "cell_type": "code",
   "execution_count": 23,
   "metadata": {},
   "outputs": [
    {
     "data": {
      "text/plain": [
       "5"
      ]
     },
     "execution_count": 23,
     "metadata": {},
     "output_type": "execute_result"
    }
   ],
   "source": [
    "len(data)"
   ]
  },
  {
   "cell_type": "code",
   "execution_count": 24,
   "metadata": {},
   "outputs": [
    {
     "data": {
      "text/plain": [
       "(375, 500, 3)"
      ]
     },
     "execution_count": 24,
     "metadata": {},
     "output_type": "execute_result"
    }
   ],
   "source": [
    "data[0].shape"
   ]
  },
  {
   "cell_type": "code",
   "execution_count": 25,
   "metadata": {},
   "outputs": [
    {
     "data": {
      "text/plain": [
       "(128, 440)"
      ]
     },
     "execution_count": 25,
     "metadata": {},
     "output_type": "execute_result"
    }
   ],
   "source": [
    "data[1].shape"
   ]
  },
  {
   "cell_type": "code",
   "execution_count": 26,
   "metadata": {},
   "outputs": [
    {
     "data": {
      "text/plain": [
       "12"
      ]
     },
     "execution_count": 26,
     "metadata": {},
     "output_type": "execute_result"
    }
   ],
   "source": [
    "data[2]"
   ]
  },
  {
   "cell_type": "code",
   "execution_count": 15,
   "metadata": {},
   "outputs": [
    {
     "data": {
      "text/plain": [
       "'n02106662_1152'"
      ]
     },
     "execution_count": 15,
     "metadata": {},
     "output_type": "execute_result"
    }
   ],
   "source": [
    "data[3]"
   ]
  },
  {
   "cell_type": "code",
   "execution_count": 19,
   "metadata": {},
   "outputs": [
    {
     "data": {
      "text/plain": [
       "1"
      ]
     },
     "execution_count": 19,
     "metadata": {},
     "output_type": "execute_result"
    }
   ],
   "source": [
    "data[4]"
   ]
  },
  {
   "cell_type": "code",
   "execution_count": null,
   "metadata": {},
   "outputs": [],
   "source": []
  }
 ],
 "metadata": {
  "kernelspec": {
   "display_name": "to1.7",
   "language": "python",
   "name": "python3"
  },
  "language_info": {
   "codemirror_mode": {
    "name": "ipython",
    "version": 3
   },
   "file_extension": ".py",
   "mimetype": "text/x-python",
   "name": "python",
   "nbconvert_exporter": "python",
   "pygments_lexer": "ipython3",
   "version": "3.8.19"
  }
 },
 "nbformat": 4,
 "nbformat_minor": 2
}
